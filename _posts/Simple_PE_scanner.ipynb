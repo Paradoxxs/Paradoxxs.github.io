{
  "nbformat": 4,
  "nbformat_minor": 0,
  "metadata": {
    "colab": {
      "name": "Simple PE scanner.ipynb",
      "provenance": [],
      "collapsed_sections": [],
      "history_visible": true,
      "mount_file_id": "https://github.com/Paradoxxs/Paradoxxs.github.io/blob/main/Simple_PE_scanner.ipynb",
      "authorship_tag": "ABX9TyOFAwdTlBKFdBu/azqQY/f7",
      "include_colab_link": true
    },
    "kernelspec": {
      "name": "python3",
      "display_name": "Python 3"
    },
    "language_info": {
      "name": "python"
    }
  },
  "cells": [
    {
      "cell_type": "markdown",
      "metadata": {
        "id": "view-in-github",
        "colab_type": "text"
      },
      "source": [
        "<a href=\"https://colab.research.google.com/github/Paradoxxs/Paradoxxs.github.io/blob/main/Simple_PE_scanner.ipynb\" target=\"_parent\"><img src=\"https://colab.research.google.com/assets/colab-badge.svg\" alt=\"Open In Colab\"/></a>"
      ]
    },
    {
      "cell_type": "code",
      "metadata": {
        "id": "qQUIyP16n3Og"
      },
      "source": [
        "import pandas as pd\n",
        "import numpy as np\n",
        "import pickle\n",
        "import sklearn.ensemble as ske\n",
        "from sklearn.model_selection import train_test_split\n",
        "from sklearn import tree, linear_model\n",
        "from sklearn.feature_selection import SelectFromModel\n",
        "from sklearn.naive_bayes import GaussianNB\n",
        "from sklearn.metrics import confusion_matrix"
      ],
      "execution_count": null,
      "outputs": []
    },
    {
      "cell_type": "markdown",
      "metadata": {
        "id": "9RHoB2odopDY"
      },
      "source": [
        "Load data"
      ]
    },
    {
      "cell_type": "code",
      "metadata": {
        "colab": {
          "base_uri": "https://localhost:8080/"
        },
        "id": "kBZxqO6qoBsf",
        "outputId": "d41b62d3-5a0e-48ad-f5c8-e9df1c737021"
      },
      "source": [
        "data = pd.read_csv('/content/drive/MyDrive/Data science/Data/antivirus_demo_data.csv', sep='|')\n",
        "X = data.drop(['Name', 'md5', 'legitimate'], axis=1).values\n",
        "y = data['legitimate'].values\n",
        "\n",
        "print('Researching important feature based on %i total features\\n' % X.shape[1])"
      ],
      "execution_count": null,
      "outputs": [
        {
          "output_type": "stream",
          "name": "stdout",
          "text": [
            "Researching important feature based on 54 total features\n",
            "\n"
          ]
        }
      ]
    },
    {
      "cell_type": "markdown",
      "metadata": {
        "id": "QZq2yR7ApZEa"
      },
      "source": [
        "Feature selection using Trees Classifier"
      ]
    },
    {
      "cell_type": "code",
      "metadata": {
        "id": "qi6UEFt8oCQY"
      },
      "source": [
        "fsel = ske.ExtraTreesClassifier().fit(X, y)\n",
        "model = SelectFromModel(fsel, prefit=True)\n",
        "X_new = model.transform(X)\n",
        "nb_features = X_new.shape[1]"
      ],
      "execution_count": null,
      "outputs": []
    },
    {
      "cell_type": "markdown",
      "metadata": {
        "id": "gd76HdNmpKlQ"
      },
      "source": [
        "Split the data into to test and train"
      ]
    },
    {
      "cell_type": "code",
      "metadata": {
        "id": "PXUo-6YipJc9"
      },
      "source": [
        "X_train, X_test, y_train, y_test = train_test_split(X_new, y ,test_size=0.2)"
      ],
      "execution_count": null,
      "outputs": []
    },
    {
      "cell_type": "code",
      "metadata": {
        "colab": {
          "base_uri": "https://localhost:8080/"
        },
        "id": "G0pE1He5oF_4",
        "outputId": "64b65e0e-6161-4e78-a200-21f4f7bd2102"
      },
      "source": [
        "features = []\n",
        "\n",
        "print('%i features identified as important:' % nb_features)"
      ],
      "execution_count": null,
      "outputs": [
        {
          "output_type": "stream",
          "name": "stdout",
          "text": [
            "13 features identified as important:\n"
          ]
        }
      ]
    },
    {
      "cell_type": "code",
      "metadata": {
        "colab": {
          "base_uri": "https://localhost:8080/"
        },
        "id": "qRWMTGoaoJAf",
        "outputId": "7e450951-dd8b-4a1e-d603-83298764e7b0"
      },
      "source": [
        "indices = np.argsort(fsel.feature_importances_)[::-1][:nb_features]\n",
        "for f in range(nb_features):\n",
        "    print(\"%d. feature %s (%f)\" % (f + 1, data.columns[2+indices[f]], fsel.feature_importances_[indices[f]]))\n",
        "\n",
        "\n"
      ],
      "execution_count": null,
      "outputs": [
        {
          "output_type": "stream",
          "name": "stdout",
          "text": [
            "1. feature DllCharacteristics (0.152100)\n",
            "2. feature Machine (0.104096)\n",
            "3. feature SectionsMaxEntropy (0.073897)\n",
            "4. feature VersionInformationSize (0.073672)\n",
            "5. feature Characteristics (0.067896)\n",
            "6. feature Subsystem (0.063009)\n",
            "7. feature MajorSubsystemVersion (0.062743)\n",
            "8. feature ImageBase (0.050253)\n",
            "9. feature ResourcesMaxEntropy (0.044595)\n",
            "10. feature ResourcesMinEntropy (0.043756)\n",
            "11. feature SizeOfOptionalHeader (0.043518)\n",
            "12. feature MajorOperatingSystemVersion (0.025248)\n",
            "13. feature SectionsMinEntropy (0.020449)\n"
          ]
        }
      ]
    },
    {
      "cell_type": "markdown",
      "metadata": {
        "id": "G-zuitAUsnzd"
      },
      "source": [
        "Defines the algorithm for comparison inside a dictionary"
      ]
    },
    {
      "cell_type": "code",
      "metadata": {
        "id": "6FQpPcdyoMkX"
      },
      "source": [
        "\n",
        "algorithms = {\n",
        "        \"DecisionTree\": tree.DecisionTreeClassifier(max_depth=10),\n",
        "        \"RandomForest\": ske.RandomForestClassifier(n_estimators=50),\n",
        "        \"GradientBoosting\": ske.GradientBoostingClassifier(n_estimators=50),\n",
        "        \"AdaBoost\": ske.AdaBoostClassifier(n_estimators=100),\n",
        "    }"
      ],
      "execution_count": null,
      "outputs": []
    },
    {
      "cell_type": "markdown",
      "metadata": {
        "id": "lbwhMDMlstbN"
      },
      "source": [
        "For loop for testing the different algorithms\n",
        "using a list comprehension over dictionary"
      ]
    },
    {
      "cell_type": "code",
      "metadata": {
        "id": "1_lLgMg63icw",
        "colab": {
          "base_uri": "https://localhost:8080/"
        },
        "outputId": "41f289de-671b-4edd-930a-1b612e1002a0"
      },
      "source": [
        "results = {}\n",
        "print(\"\\nNow testing algorithms\")\n",
        "results = {k:v.fit(X_train, y_train).score(X_test, y_test) for (k,v) in algorithms.items()}\n",
        "print(results)"
      ],
      "execution_count": null,
      "outputs": [
        {
          "output_type": "stream",
          "name": "stdout",
          "text": [
            "\n",
            "Now testing algorithms\n",
            "{'DecisionTree': 0.9912712785222746, 'RandomForest': 0.9943498732343354, 'GradientBoosting': 0.9883375588554871, 'AdaBoost': 0.9867077145961608}\n"
          ]
        }
      ]
    },
    {
      "cell_type": "markdown",
      "metadata": {
        "id": "lsDVTW1Ws00m"
      },
      "source": [
        "Printing out the algroithm with the higest score."
      ]
    },
    {
      "cell_type": "code",
      "metadata": {
        "colab": {
          "base_uri": "https://localhost:8080/"
        },
        "id": "46423YX_oROo",
        "outputId": "ec76543b-ca0d-40e2-9224-d8737a8dc651"
      },
      "source": [
        "winner = max(results, key=results.get)\n",
        "print(' %s with a %f %%' % (winner, results[winner]*100))"
      ],
      "execution_count": null,
      "outputs": [
        {
          "output_type": "stream",
          "name": "stdout",
          "text": [
            " RandomForest with a 99.434987 %\n"
          ]
        }
      ]
    },
    {
      "cell_type": "code",
      "metadata": {
        "colab": {
          "base_uri": "https://localhost:8080/"
        },
        "id": "0WaVG5I7oUqq",
        "outputId": "778942d3-0b26-48a7-e943-2a4835eec6c4"
      },
      "source": [
        "# Identify false and true positive rates\n",
        "clf = algorithms[winner]\n",
        "res = clf.predict(X_test)\n",
        "mt = confusion_matrix(y_test, res)\n",
        "print(mt)\n",
        "print(\"False positive rate %f %%\" % ((mt[0][1] / float(sum(mt[0])))*100))\n",
        "print('False negative rate %f %%' % ( (mt[1][0] / float(sum(mt[1]))*100)))"
      ],
      "execution_count": null,
      "outputs": [
        {
          "output_type": "stream",
          "name": "stdout",
          "text": [
            "[[19207    87]\n",
            " [   69  8247]]\n",
            "False positive rate 0.450917 %\n",
            "False negative rate 0.829726 %\n"
          ]
        }
      ]
    }
  ]
}