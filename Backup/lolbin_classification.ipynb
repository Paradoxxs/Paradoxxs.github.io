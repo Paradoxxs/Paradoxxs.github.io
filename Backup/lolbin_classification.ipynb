{
  "nbformat": 4,
  "nbformat_minor": 0,
  "metadata": {
    "colab": {
      "name": "lolbin classification.ipynb",
      "provenance": [],
      "collapsed_sections": []
    },
    "kernelspec": {
      "name": "python3",
      "display_name": "Python 3"
    },
    "language_info": {
      "name": "python"
    }
  },
  "cells": [
    {
      "cell_type": "markdown",
      "source": [
        "LOL bin classification using libLol and LOLBAS project"
      ],
      "metadata": {
        "id": "-feK-f-IH_2i"
      }
    },
    {
      "cell_type": "code",
      "source": [
        "pip install lolc"
      ],
      "metadata": {
        "colab": {
          "base_uri": "https://localhost:8080/",
          "height": 401
        },
        "id": "o_YDeoj-Hoh7",
        "outputId": "5ba0ca8c-7ae3-46f2-bb71-0bef0bf85a86"
      },
      "execution_count": 2,
      "outputs": [
        {
          "output_type": "stream",
          "name": "stdout",
          "text": [
          ]
        },
        {
          "output_type": "display_data",
          "data": {
            "application/vnd.colab-display-data+json": {
              "pip_warning": {
                "packages": [
                  "IPython",
                  "numpy",
                  "pandas",
                  "prompt_toolkit"
                ]
              }
            }
          },
          "metadata": {}
        }
      ]
    },
    {
      "cell_type": "code",
      "source": [
        "from lol.api import LOLC, PlatformType\n",
        "import pandas as pd\n",
        "import csv"
      ],
      "metadata": {
        "id": "P0urw5TMHt9i"
      },
      "execution_count": 22,
      "outputs": []
    },
    {
      "cell_type": "code",
      "source": [
        "path = 'path to file'"
      ],
      "metadata": {
        "id": "LyAJM7mlNsaq"
      },
      "execution_count": 10,
      "outputs": []
    },
    {
      "cell_type": "code",
      "source": [
        "with open(path) as csvfile:\n",
        "  csvdata = csv.reader(csvfile)\n",
        "  data = list(csvdata)"
      ],
      "metadata": {
        "id": "kccvPab8WLIV"
      },
      "execution_count": 36,
      "outputs": []
    },
    {
      "cell_type": "code",
      "source": [
        "data = pd.read_csv(path)\n",
        "data.columns = ['command']"
      ],
      "metadata": {
        "id": "oOac6Ao7NZu2"
      },
      "execution_count": 13,
      "outputs": []
    },
    {
      "cell_type": "code",
      "source": [
        "data.tail()"
      ],
      "metadata": {
        "id": "ayrpwEjrVjF7"
      },
      "execution_count": null,
      "outputs": []
    },
    {
      "cell_type": "code",
      "source": [
        "\n",
        "lolc=LOLC(PlatformType.WINDOWS) # allowed parameters are PlatformType.LINUX and PlatformType.WINDOWS\n",
        "classification, tags = lolc(data)"
      ],
      "metadata": {
        "id": "vtSKdeLjV6By"
      },
      "execution_count": null,
      "outputs": []
    },
    {
      "cell_type": "code",
      "source": [
        "with open(\"Output.txt\", \"w\") as outfile:\n",
        "  for command, status, tag in zip (data, classification, tags):\n",
        "    outfile.write(command[0] + \"\\n\")\n",
        "    outfile.write(status + \"\\n\")\n",
        "    outfile.write(tag)\n",
        "    outfile.write(\"\\n\\n\")"
      ],
      "metadata": {
        "id": "dA5qE6xEnn2a"
      },
      "execution_count": 56,
      "outputs": []
    }
  ]
}
