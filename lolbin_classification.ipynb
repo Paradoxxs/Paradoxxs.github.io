{
  "nbformat": 4,
  "nbformat_minor": 0,
  "metadata": {
    "colab": {
      "name": "lolbin classification.ipynb",
      "provenance": [],
      "collapsed_sections": []
    },
    "kernelspec": {
      "name": "python3",
      "display_name": "Python 3"
    },
    "language_info": {
      "name": "python"
    }
  },
  "cells": [
    {
      "cell_type": "markdown",
      "source": [
        "LOL bin classification using libLol and LOLBAS project"
      ],
      "metadata": {
        "id": "-feK-f-IH_2i"
      }
    },
    {
      "cell_type": "code",
      "source": [
        "pip install lolc"
      ],
      "metadata": {
        "colab": {
          "base_uri": "https://localhost:8080/",
          "height": 401
        },
        "id": "o_YDeoj-Hoh7",
        "outputId": "5ba0ca8c-7ae3-46f2-bb71-0bef0bf85a86"
      },
      "execution_count": 2,
      "outputs": [
        {
          "output_type": "stream",
          "name": "stdout",
          "text": [
            "  Attempting uninstall: nltk\n",
            "    Found existing installation: nltk 3.2.5\n",
            "    Uninstalling nltk-3.2.5:\n",
            "      Successfully uninstalled nltk-3.2.5\n",
            "\u001b[31mERROR: pip's dependency resolver does not currently take into account all the packages that are installed. This behaviour is the source of the following dependency conflicts.\n",
            "yellowbrick 1.3.post1 requires numpy<1.20,>=1.16.0, but you have numpy 1.20.3 which is incompatible.\n",
            "jupyter-console 5.2.0 requires prompt-toolkit<2.0.0,>=1.0.0, but you have prompt-toolkit 3.0.24 which is incompatible.\n",
            "google-colab 1.0.0 requires ipython~=5.5.0, but you have ipython 7.30.1 which is incompatible.\n",
            "google-colab 1.0.0 requires pandas~=1.1.0; python_version >= \"3.0\", but you have pandas 1.2.4 which is incompatible.\n",
            "datascience 0.10.6 requires folium==0.2.1, but you have folium 0.8.3 which is incompatible.\n",
            "albumentations 0.1.12 requires imgaug<0.2.7,>=0.2.5, but you have imgaug 0.2.9 which is incompatible.\u001b[0m\n",
            "Successfully installed ipdb-0.13.7 ipython-7.30.1 joblib-1.0.1 lolc-0.1.0.3 nltk-3.6.2 numpy-1.20.3 pandas-1.2.4 prompt-toolkit-3.0.24 pyre2-0.3.6 scikit-learn-0.24.2 tqdm-4.60.0\n"
          ]
        },
        {
          "output_type": "display_data",
          "data": {
            "application/vnd.colab-display-data+json": {
              "pip_warning": {
                "packages": [
                  "IPython",
                  "numpy",
                  "pandas",
                  "prompt_toolkit"
                ]
              }
            }
          },
          "metadata": {}
        }
      ]
    },
    {
      "cell_type": "code",
      "source": [
        "from lol.api import LOLC, PlatformType\n",
        "import pandas as pd\n",
        "import csv"
      ],
      "metadata": {
        "id": "P0urw5TMHt9i"
      },
      "execution_count": 22,
      "outputs": []
    },
    {
      "cell_type": "code",
      "source": [
        "path = 'path to file'"
      ],
      "metadata": {
        "id": "LyAJM7mlNsaq"
      },
      "execution_count": 10,
      "outputs": []
    },
    {
      "cell_type": "code",
      "source": [
        "with open(path) as csvfile:\n",
        "  csvdata = csv.reader(csvfile)\n",
        "  data = list(csvdata)"
      ],
      "metadata": {
        "id": "kccvPab8WLIV"
      },
      "execution_count": 36,
      "outputs": []
    },
    {
      "cell_type": "code",
      "source": [
        "data = pd.read_csv(path)\n",
        "data.columns = ['command']"
      ],
      "metadata": {
        "id": "oOac6Ao7NZu2"
      },
      "execution_count": 13,
      "outputs": []
    },
    {
      "cell_type": "code",
      "source": [
        "data.tail()"
      ],
      "metadata": {
        "id": "ayrpwEjrVjF7"
      },
      "execution_count": null,
      "outputs": []
    },
    {
      "cell_type": "code",
      "source": [
        "\n",
        "lolc=LOLC(PlatformType.WINDOWS) # allowed parameters are PlatformType.LINUX and PlatformType.WINDOWS\n",
        "classification, tags = lolc(data)"
      ],
      "metadata": {
        "id": "vtSKdeLjV6By"
      },
      "execution_count": null,
      "outputs": []
    },
    {
      "cell_type": "code",
      "source": [
        "with open(\"Output.txt\", \"w\") as outfile:\n",
        "  for command, status, tag in zip (data, classification, tags):\n",
        "    outfile.write(command[0] + \"\\n\")\n",
        "    outfile.write(status + \"\\n\")\n",
        "    outfile.write(tag)\n",
        "    outfile.write(\"\\n\\n\")"
      ],
      "metadata": {
        "id": "dA5qE6xEnn2a"
      },
      "execution_count": 56,
      "outputs": []
    }
  ]
}