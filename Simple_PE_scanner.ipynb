{
  "nbformat": 4,
  "nbformat_minor": 0,
  "metadata": {
    "colab": {
      "name": "Simple PE scanner.ipynb",
      "provenance": [],
      "collapsed_sections": [],
      "mount_file_id": "1pmVPD32KvMrDiMkoipOHLUD_xNYGp_B0",
      "authorship_tag": "ABX9TyPrHH5auSCfG4HF1NPckMqe",
      "include_colab_link": true
    },
    "kernelspec": {
      "name": "python3",
      "display_name": "Python 3"
    },
    "language_info": {
      "name": "python"
    }
  },
  "cells": [
    {
      "cell_type": "markdown",
      "metadata": {
        "id": "view-in-github",
        "colab_type": "text"
      },
      "source": [
        "<a href=\"https://colab.research.google.com/github/Paradoxxs/Paradoxxs.github.io/blob/main/Simple_PE_scanner.ipynb\" target=\"_parent\"><img src=\"https://colab.research.google.com/assets/colab-badge.svg\" alt=\"Open In Colab\"/></a>"
      ]
    },
    {
      "cell_type": "code",
      "metadata": {
        "id": "qQUIyP16n3Og"
      },
      "source": [
        "import pandas as pd\n",
        "import numpy as np\n",
        "import pickle\n",
        "import sklearn.ensemble as ske\n",
        "from sklearn.model_selection import train_test_split\n",
        "from sklearn import tree, linear_model\n",
        "from sklearn.feature_selection import SelectFromModel\n",
        "from sklearn.naive_bayes import GaussianNB\n",
        "from sklearn.metrics import confusion_matrix"
      ],
      "execution_count": 16,
      "outputs": []
    },
    {
      "cell_type": "markdown",
      "metadata": {
        "id": "9RHoB2odopDY"
      },
      "source": [
        "Load data"
      ]
    },
    {
      "cell_type": "code",
      "metadata": {
        "colab": {
          "base_uri": "https://localhost:8080/"
        },
        "id": "kBZxqO6qoBsf",
        "outputId": "2bc418fe-89c8-49a0-d19d-80a21fca3d74"
      },
      "source": [
        "data = pd.read_csv('/content/drive/MyDrive/Data science/Data/antivirus_demo_data.csv', sep='|')\n",
        "X = data.drop(['Name', 'md5', 'legitimate'], axis=1).values\n",
        "y = data['legitimate'].values\n",
        "\n",
        "print('Researching important feature based on %i total features\\n' % X.shape[1])"
      ],
      "execution_count": 17,
      "outputs": [
        {
          "output_type": "stream",
          "name": "stdout",
          "text": [
            "Researching important feature based on 54 total features\n",
            "\n"
          ]
        }
      ]
    },
    {
      "cell_type": "markdown",
      "metadata": {
        "id": "QZq2yR7ApZEa"
      },
      "source": [
        "Feature selection using Trees Classifier"
      ]
    },
    {
      "cell_type": "code",
      "metadata": {
        "id": "qi6UEFt8oCQY"
      },
      "source": [
        "fsel = ske.ExtraTreesClassifier().fit(X, y)\n",
        "model = SelectFromModel(fsel, prefit=True)\n",
        "X_new = model.transform(X)\n",
        "nb_features = X_new.shape[1]"
      ],
      "execution_count": 18,
      "outputs": []
    },
    {
      "cell_type": "markdown",
      "metadata": {
        "id": "gd76HdNmpKlQ"
      },
      "source": [
        "Split the data into to test and train"
      ]
    },
    {
      "cell_type": "code",
      "metadata": {
        "id": "PXUo-6YipJc9"
      },
      "source": [
        "X_train, X_test, y_train, y_test = train_test_split(X_new, y ,test_size=0.2)"
      ],
      "execution_count": 19,
      "outputs": []
    },
    {
      "cell_type": "code",
      "metadata": {
        "colab": {
          "base_uri": "https://localhost:8080/"
        },
        "id": "G0pE1He5oF_4",
        "outputId": "97f225cb-8dc6-40fd-b366-a934b9edca90"
      },
      "source": [
        "features = []\n",
        "\n",
        "print('%i features identified as important:' % nb_features)"
      ],
      "execution_count": 20,
      "outputs": [
        {
          "output_type": "stream",
          "name": "stdout",
          "text": [
            "13 features identified as important:\n"
          ]
        }
      ]
    },
    {
      "cell_type": "code",
      "metadata": {
        "colab": {
          "base_uri": "https://localhost:8080/"
        },
        "id": "qRWMTGoaoJAf",
        "outputId": "f04fb958-58de-4cad-d7bd-02dc57d070c0"
      },
      "source": [
        "indices = np.argsort(fsel.feature_importances_)[::-1][:nb_features]\n",
        "for f in range(nb_features):\n",
        "    print(\"%d. feature %s (%f)\" % (f + 1, data.columns[2+indices[f]], fsel.feature_importances_[indices[f]]))\n",
        "\n",
        "\n"
      ],
      "execution_count": 21,
      "outputs": [
        {
          "output_type": "stream",
          "name": "stdout",
          "text": [
            "1. feature DllCharacteristics (0.137176)\n",
            "2. feature Characteristics (0.107942)\n",
            "3. feature Machine (0.107144)\n",
            "4. feature VersionInformationSize (0.060890)\n",
            "5. feature ImageBase (0.060444)\n",
            "6. feature SectionsMaxEntropy (0.057674)\n",
            "7. feature MajorSubsystemVersion (0.057278)\n",
            "8. feature Subsystem (0.054732)\n",
            "9. feature ResourcesMaxEntropy (0.046115)\n",
            "10. feature SizeOfOptionalHeader (0.038017)\n",
            "11. feature ResourcesMinEntropy (0.037360)\n",
            "12. feature MajorOperatingSystemVersion (0.027987)\n",
            "13. feature SectionsMinEntropy (0.021433)\n"
          ]
        }
      ]
    },
    {
      "cell_type": "markdown",
      "metadata": {
        "id": "IOj7wrJJsfew"
      },
      "source": [
        "Sort the feature by importances"
      ]
    },
    {
      "cell_type": "code",
      "metadata": {
        "id": "gvwTfQm3sd5s"
      },
      "source": [
        "for f in sorted(np.argsort(fsel.feature_importances_)[::-1][:nb_features]):\n",
        "    features.append(data.columns[2+f])"
      ],
      "execution_count": null,
      "outputs": []
    },
    {
      "cell_type": "markdown",
      "metadata": {
        "id": "G-zuitAUsnzd"
      },
      "source": [
        "Defines the algorithm for comparison"
      ]
    },
    {
      "cell_type": "code",
      "metadata": {
        "id": "6FQpPcdyoMkX"
      },
      "source": [
        "\n",
        "algorithms = {\n",
        "        \"DecisionTree\": tree.DecisionTreeClassifier(max_depth=10),\n",
        "        \"RandomForest\": ske.RandomForestClassifier(n_estimators=50),\n",
        "        \"GradientBoosting\": ske.GradientBoostingClassifier(n_estimators=50),\n",
        "        \"AdaBoost\": ske.AdaBoostClassifier(n_estimators=100),\n",
        "        \"GNB\": GaussianNB()\n",
        "    }"
      ],
      "execution_count": 22,
      "outputs": []
    },
    {
      "cell_type": "markdown",
      "metadata": {
        "id": "lbwhMDMlstbN"
      },
      "source": [
        "For loop for testing the different algorithms"
      ]
    },
    {
      "cell_type": "code",
      "metadata": {
        "colab": {
          "base_uri": "https://localhost:8080/"
        },
        "id": "pZzYtBSdoPp3",
        "outputId": "d67cf250-ad3e-477b-90d1-01498f28c281"
      },
      "source": [
        "results = {}\n",
        "print(\"\\nNow testing algorithms\")\n",
        "for algo in algorithms:\n",
        "    clf = algorithms[algo]\n",
        "    clf.fit(X_train, y_train)\n",
        "    score = clf.score(X_test, y_test)\n",
        "    print(\"%s : %f %%\" % (algo, score*100))\n",
        "    results[algo] = score"
      ],
      "execution_count": 23,
      "outputs": [
        {
          "output_type": "stream",
          "name": "stdout",
          "text": [
            "\n",
            "Now testing algorithms\n",
            "DecisionTree : 99.003984 %\n",
            "RandomForest : 99.340819 %\n",
            "GradientBoosting : 98.735965 %\n",
            "AdaBoost : 98.551250 %\n",
            "GNB : 69.949294 %\n"
          ]
        }
      ]
    },
    {
      "cell_type": "markdown",
      "metadata": {
        "id": "lsDVTW1Ws00m"
      },
      "source": [
        "Printing out the algroithm with the higest score."
      ]
    },
    {
      "cell_type": "code",
      "metadata": {
        "colab": {
          "base_uri": "https://localhost:8080/"
        },
        "id": "46423YX_oROo",
        "outputId": "6160b634-8f6f-4ad0-cb47-423ed7e6b014"
      },
      "source": [
        "winner = max(results, key=results.get)\n",
        "print(' %s with a %f %%' % (winner, results[winner]*100))"
      ],
      "execution_count": 27,
      "outputs": [
        {
          "output_type": "stream",
          "name": "stdout",
          "text": [
            " RandomForest with a 99.340819 % \n"
          ]
        }
      ]
    },
    {
      "cell_type": "markdown",
      "metadata": {
        "id": "nqToAJdGtini"
      },
      "source": [
        "Save the algorithm and the feature list for later predictions"
      ]
    },
    {
      "cell_type": "code",
      "metadata": {
        "colab": {
          "base_uri": "https://localhost:8080/"
        },
        "id": "0f2yp0h8oSkA",
        "outputId": "5f20474b-f597-4a50-f532-1a3356cae810"
      },
      "source": [
        "open('./features.pkl', 'wb').write(pickle.dumps(features))"
      ],
      "execution_count": 30,
      "outputs": [
        {
          "output_type": "stream",
          "name": "stdout",
          "text": [
            "Saving algorithm and feature list in classifier directory...\n",
            "Saved\n"
          ]
        }
      ]
    },
    {
      "cell_type": "code",
      "metadata": {
        "colab": {
          "base_uri": "https://localhost:8080/"
        },
        "id": "0WaVG5I7oUqq",
        "outputId": "c5139737-7071-4bb9-c6d4-2e7401cc47e7"
      },
      "source": [
        "# Identify false and true positive rates\n",
        "clf = algorithms[winner]\n",
        "res = clf.predict(X_test)\n",
        "mt = confusion_matrix(y_test, res)\n",
        "print(\"False positive rate : %f %%\" % ((mt[0][1] / float(sum(mt[0])))*100))\n",
        "print('False negative rate : %f %%' % ( (mt[1][0] / float(sum(mt[1]))*100)))"
      ],
      "execution_count": 31,
      "outputs": [
        {
          "output_type": "stream",
          "name": "stdout",
          "text": [
            "False positive rate : 0.476388 %\n",
            "False negative rate : 1.084599 %\n"
          ]
        }
      ]
    }
  ]
}